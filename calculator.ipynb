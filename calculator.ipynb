{
 "cells": [
  {
   "cell_type": "code",
   "execution_count": 12,
   "metadata": {},
   "outputs": [
    {
     "name": "stderr",
     "output_type": "stream",
     "text": [
      "testpenjumlahan (__main__.Test_calculator) ... ok\n",
      "\n",
      "----------------------------------------------------------------------\n",
      "Ran 1 test in 0.001s\n",
      "\n",
      "OK\n"
     ]
    },
    {
     "name": "stdout",
     "output_type": "stream",
     "text": [
      "2.5\n"
     ]
    },
    {
     "data": {
      "text/plain": [
       "<unittest.main.TestProgram at 0x2b0c54a3880>"
      ]
     },
     "execution_count": 12,
     "metadata": {},
     "output_type": "execute_result"
    }
   ],
   "source": [
    "class Calculator():\n",
    "    def penjumlahan(self,a,b):\n",
    "        return a+b\n",
    "    def pengurangan(self,a,b):\n",
    "        return a-b\n",
    "    def perkalian(self,a,b):\n",
    "        return a*b\n",
    "    def pembagian(self,a,b):\n",
    "        return a/b\n",
    "    def pangkat(self,a,b):\n",
    "        return a**b\n",
    "\n",
    "calc=Calculator()\n",
    "\n",
    "print(calc.pembagian(5,2))\n",
    "\n",
    "import unittest\n",
    "\n",
    "class Test_calculator(unittest.TestCase):\n",
    "    def testpenjumlahan(self):\n",
    "        self.assertEqual(calc.penjumlahan(10,5),15)\n",
    "    def testpangkat(self):\n",
    "        self.assertEqual(calc.pangkat(2,2),4)\n",
    "\n",
    "unittest.main(argv=[''], verbosity=2, exit=False)\n",
    "    \n",
    "\n",
    "\n"
   ]
  },
  {
   "cell_type": "code",
   "execution_count": null,
   "metadata": {},
   "outputs": [],
   "source": []
  }
 ],
 "metadata": {
  "kernelspec": {
   "display_name": "base",
   "language": "python",
   "name": "python3"
  },
  "language_info": {
   "codemirror_mode": {
    "name": "ipython",
    "version": 3
   },
   "file_extension": ".py",
   "mimetype": "text/x-python",
   "name": "python",
   "nbconvert_exporter": "python",
   "pygments_lexer": "ipython3",
   "version": "3.9.18"
  }
 },
 "nbformat": 4,
 "nbformat_minor": 2
}
